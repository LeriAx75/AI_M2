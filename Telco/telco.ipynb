{
 "cells": [
  {
   "cell_type": "code",
   "execution_count": 23,
   "id": "25f4d7a9",
   "metadata": {},
   "outputs": [],
   "source": [
    "import matplotlib.pyplot as plt\n",
    "import pandas as pd\n",
    "import numpy as np\n",
    "import statistics\n",
    "import seaborn as sns\n",
    "\n",
    "data = pd.read_csv('data.csv')"
   ]
  },
  {
   "cell_type": "code",
   "execution_count": 13,
   "id": "fffe66d3",
   "metadata": {},
   "outputs": [
    {
     "data": {
      "text/plain": [
       "0         29.85\n",
       "1        1889.5\n",
       "2        108.15\n",
       "3       1840.75\n",
       "4        151.65\n",
       "         ...   \n",
       "7038     1990.5\n",
       "7039     7362.9\n",
       "7040     346.45\n",
       "7041      306.6\n",
       "7042     6844.5\n",
       "Name: TotalCharges, Length: 7043, dtype: object"
      ]
     },
     "execution_count": 13,
     "metadata": {},
     "output_type": "execute_result"
    }
   ],
   "source": [
    "data['TotalCharges']"
   ]
  },
  {
   "cell_type": "markdown",
   "id": "b12c2dd5",
   "metadata": {},
   "source": [
    "1.General Customer Answer"
   ]
  },
  {
   "cell_type": "markdown",
   "id": "d99d9dfb",
   "metadata": {},
   "source": [
    "Calculate the descriptive statistics for the tenure, MonthlyCharges, and TotalCharges\n",
    "columns. By comparing the mean and median of tenure, how would you describe the\n",
    "company's \"typical\" customer?"
   ]
  },
  {
   "cell_type": "code",
   "execution_count": 17,
   "id": "59ff7572",
   "metadata": {},
   "outputs": [],
   "source": [
    "data['TotalCharges'] = data['TotalCharges'].str.replace(\" \", \"0\")\n",
    "data['TotalCharges'] = data['TotalCharges'].str.replace(\"\", \"0\")\n",
    "data['TotalCharges'] = data['TotalCharges'].astype(float)"
   ]
  },
  {
   "cell_type": "code",
   "execution_count": 19,
   "id": "853a4020",
   "metadata": {},
   "outputs": [
    {
     "name": "stdout",
     "output_type": "stream",
     "text": [
      "Descriptive statistics from tenure\n",
      "Mean 32.37114865824223\n",
      "Median 29.0\n",
      "Mode 1\n",
      "Range 72\n",
      "Variance 603.0824673302961\n",
      "Standard Deviation 24.55773742286321\n",
      "Interquartile Range 0.25     9.0\n",
      "0.75    55.0\n",
      "Name: tenure, dtype: float64\n",
      "-------------------------\n",
      "Descriptive statistics from MonthlyCharges\n",
      "Mean 64.76169246059918\n",
      "Median 70.35\n",
      "Mode 20.05\n",
      "Range 100.5\n",
      "Variance 905.2823796146374\n",
      "Standard Deviation 30.08791085493703\n",
      "Interquartile Range 0.25    35.50\n",
      "0.75    89.85\n",
      "Name: MonthlyCharges, dtype: float64\n",
      "-------------------------\n",
      "Descriptive statistics from TotalCharges\n",
      "Mean 18947571.766933553\n",
      "Median 10309040.0505\n",
      "Mode 2000.02\n",
      "Range 80608040.08\n",
      "Variance 487922179516577.6\n",
      "Standard Deviation 22088960.580266733\n",
      "Interquartile Range 0.25    3.090801e+05\n",
      "0.75    3.070807e+07\n",
      "Name: TotalCharges, dtype: float64\n",
      "-------------------------\n"
     ]
    }
   ],
   "source": [
    "cols = ['tenure','MonthlyCharges', 'TotalCharges']\n",
    "\n",
    "for col in cols:\n",
    "    print(f\"Descriptive statistics from {col}\")\n",
    "    print(f\"Mean {np.mean(data[col])}\")\n",
    "    print(f\"Median {np.median(data[col])}\")\n",
    "    print(f\"Mode {statistics.mode(data[col])}\")\n",
    "    print(f\"Range {data[col].max()-data[col].min()}\")\n",
    "    print(f\"Variance {np.var(data[col])}\")\n",
    "    print(f\"Standard Deviation {np.std(data[col])}\")\n",
    "    print(f\"Interquartile Range {data[col].quantile([0.25, 0.75])}\")\n",
    "    print(\"-------------------------\")\n",
    "\n"
   ]
  },
  {
   "cell_type": "markdown",
   "id": "27703a3c",
   "metadata": {},
   "source": [
    "2. Distribution Visualization"
   ]
  },
  {
   "cell_type": "markdown",
   "id": "b100c817",
   "metadata": {},
   "source": [
    "Generate histograms for the tenure and MonthlyCharges columns. Describe the shape of\n",
    "each distribution. Are they symmetric, skewed? What interesting patterns or peaks do you\n",
    "observe?"
   ]
  },
  {
   "cell_type": "code",
   "execution_count": 20,
   "id": "8b623cc5",
   "metadata": {},
   "outputs": [
    {
     "data": {
      "image/png": "[encoded data removed]",
      "text/plain": [
       "<Figure size 640x480 with 1 Axes>"
      ]
     },
     "metadata": {},
     "output_type": "display_data"
    }
   ],
   "source": [
    "plt.hist(data['tenure'], bins=50, log=True)\n",
    "plt.show()"
   ]
  },
  {
   "cell_type": "code",
   "execution_count": 21,
   "id": "97ae2722",
   "metadata": {},
   "outputs": [
    {
     "data": {
      "image/png": "[encoded data removed]",
      "text/plain": [
       "<Figure size 640x480 with 1 Axes>"
      ]
     },
     "metadata": {},
     "output_type": "display_data"
    }
   ],
   "source": [
    "plt.hist(data['MonthlyCharges'], bins=50, log=True)\n",
    "plt.show()"
   ]
  },
  {
   "cell_type": "markdown",
   "id": "9b18ac41",
   "metadata": {},
   "source": [
    "3. Segment Analysis (Churn vs. No Churn)"
   ]
  },
  {
   "cell_type": "markdown",
   "id": "a76c845c",
   "metadata": {},
   "source": [
    "Group the data by the Churn column and calculate the median for tenure and\n",
    "MonthlyCharges for each group. What key differences do you notice?"
   ]
  },
  {
   "cell_type": "code",
   "execution_count": 22,
   "id": "f48c3075",
   "metadata": {},
   "outputs": [
    {
     "name": "stdout",
     "output_type": "stream",
     "text": [
      "Grupo Churn = No:\n",
      "  Mediana de tenure: 38.0 meses\n",
      "  Mediana de MonthlyCharges: $64.43\n",
      "------------------------------\n",
      "Grupo Churn = Yes:\n",
      "  Mediana de tenure: 10.0 meses\n",
      "  Mediana de MonthlyCharges: $79.65\n",
      "------------------------------\n"
     ]
    }
   ],
   "source": [
    "median_by_churn = data.groupby('Churn')[['tenure', 'MonthlyCharges']].median()\n",
    "\n",
    "for index, row in median_by_churn.iterrows():\n",
    "    print(f\"Grupo Churn = {index}:\")\n",
    "    print(f\"  Mediana de tenure: {row['tenure']} meses\")\n",
    "    print(f\"  Mediana de MonthlyCharges: ${row['MonthlyCharges']:.2f}\")\n",
    "    print(\"-\" * 30)"
   ]
  },
  {
   "cell_type": "markdown",
   "id": "09f6c65e",
   "metadata": {},
   "source": [
    "Create a box plot that compares the distribution of MonthlyCharges between customers\n",
    "who churned (Churn='Yes') and those who did not (Churn='No'). What insight does the\n",
    "chart give you"
   ]
  },
  {
   "cell_type": "code",
   "execution_count": 24,
   "id": "6c75665f",
   "metadata": {},
   "outputs": [
    {
     "data": {
      "image/png": "[encoded data removed]",
      "text/plain": [
       "<Figure size 640x480 with 1 Axes>"
      ]
     },
     "metadata": {},
     "output_type": "display_data"
    }
   ],
   "source": [
    "sns.boxplot(data=data, x='Churn', y='MonthlyCharges')\n",
    "plt.show()"
   ]
  },
  {
   "cell_type": "code",
   "execution_count": null,
   "id": "e9437944",
   "metadata": {},
   "outputs": [],
   "source": []
  }
 ],
 "metadata": {
  "kernelspec": {
   "display_name": "base",
   "language": "python",
   "name": "python3"
  },
  "language_info": {
   "codemirror_mode": {
    "name": "ipython",
    "version": 3
   },
   "file_extension": ".py",
   "mimetype": "text/x-python",
   "name": "python",
   "nbconvert_exporter": "python",
   "pygments_lexer": "ipython3",
   "version": "3.12.7"
  }
 },
 "nbformat": 4,
 "nbformat_minor": 5
}
